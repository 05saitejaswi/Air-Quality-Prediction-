{
 "cells": [
  {
   "cell_type": "markdown",
   "metadata": {},
   "source": [
    "# Module 1: Data validation and pre-processing technique"
   ]
  },
  {
   "cell_type": "code",
   "execution_count": 1,
   "metadata": {},
   "outputs": [],
   "source": [
    "#import library packages\n",
    "import pandas as p\n",
    "import numpy as n"
   ]
  },
  {
   "cell_type": "code",
   "execution_count": 2,
   "metadata": {},
   "outputs": [],
   "source": [
    "import warnings\n",
    "warnings.filterwarnings(\"ignore\")  "
   ]
  },
  {
   "cell_type": "code",
   "execution_count": 3,
   "metadata": {},
   "outputs": [],
   "source": [
    "#Load given dataset\n",
    "data = p.read_excel(\"AirQuality.xlsx\")"
   ]
  },
  {
   "cell_type": "markdown",
   "metadata": {},
   "source": [
    "Before drop the given dataset"
   ]
  },
  {
   "cell_type": "code",
   "execution_count": 4,
   "metadata": {},
   "outputs": [
    {
     "data": {
      "text/html": [
       "<div>\n",
       "<style scoped>\n",
       "    .dataframe tbody tr th:only-of-type {\n",
       "        vertical-align: middle;\n",
       "    }\n",
       "\n",
       "    .dataframe tbody tr th {\n",
       "        vertical-align: top;\n",
       "    }\n",
       "\n",
       "    .dataframe thead th {\n",
       "        text-align: right;\n",
       "    }\n",
       "</style>\n",
       "<table border=\"1\" class=\"dataframe\">\n",
       "  <thead>\n",
       "    <tr style=\"text-align: right;\">\n",
       "      <th></th>\n",
       "      <th>Country</th>\n",
       "      <th>State</th>\n",
       "      <th>city</th>\n",
       "      <th>place</th>\n",
       "      <th>lastupdate</th>\n",
       "      <th>Avg</th>\n",
       "      <th>Max</th>\n",
       "      <th>Min</th>\n",
       "      <th>Pollutants</th>\n",
       "    </tr>\n",
       "  </thead>\n",
       "  <tbody>\n",
       "    <tr>\n",
       "      <th>0</th>\n",
       "      <td>India</td>\n",
       "      <td>Andhra_Pradesh</td>\n",
       "      <td>Amaravati</td>\n",
       "      <td>Secretariat, Amaravati - APPCB</td>\n",
       "      <td>21-12-2018 03:00:00</td>\n",
       "      <td>70.0</td>\n",
       "      <td>108.0</td>\n",
       "      <td>42.0</td>\n",
       "      <td>PM2.5</td>\n",
       "    </tr>\n",
       "    <tr>\n",
       "      <th>1</th>\n",
       "      <td>India</td>\n",
       "      <td>Andhra_Pradesh</td>\n",
       "      <td>Amaravati</td>\n",
       "      <td>Secretariat, Amaravati - APPCB</td>\n",
       "      <td>21-12-2018 03:00:00</td>\n",
       "      <td>76.0</td>\n",
       "      <td>102.0</td>\n",
       "      <td>43.0</td>\n",
       "      <td>PM10</td>\n",
       "    </tr>\n",
       "    <tr>\n",
       "      <th>2</th>\n",
       "      <td>India</td>\n",
       "      <td>Andhra_Pradesh</td>\n",
       "      <td>Amaravati</td>\n",
       "      <td>Secretariat, Amaravati - APPCB</td>\n",
       "      <td>21-12-2018 03:00:00</td>\n",
       "      <td>73.0</td>\n",
       "      <td>118.0</td>\n",
       "      <td>46.0</td>\n",
       "      <td>NO2</td>\n",
       "    </tr>\n",
       "    <tr>\n",
       "      <th>3</th>\n",
       "      <td>India</td>\n",
       "      <td>Andhra_Pradesh</td>\n",
       "      <td>Amaravati</td>\n",
       "      <td>Secretariat, Amaravati - APPCB</td>\n",
       "      <td>21-12-2018 03:00:00</td>\n",
       "      <td>5.0</td>\n",
       "      <td>6.0</td>\n",
       "      <td>4.0</td>\n",
       "      <td>NH3</td>\n",
       "    </tr>\n",
       "    <tr>\n",
       "      <th>4</th>\n",
       "      <td>India</td>\n",
       "      <td>Andhra_Pradesh</td>\n",
       "      <td>Amaravati</td>\n",
       "      <td>Secretariat, Amaravati - APPCB</td>\n",
       "      <td>21-12-2018 03:00:00</td>\n",
       "      <td>41.0</td>\n",
       "      <td>109.0</td>\n",
       "      <td>2.0</td>\n",
       "      <td>SO2</td>\n",
       "    </tr>\n",
       "    <tr>\n",
       "      <th>5</th>\n",
       "      <td>India</td>\n",
       "      <td>Andhra_Pradesh</td>\n",
       "      <td>Amaravati</td>\n",
       "      <td>Secretariat, Amaravati - APPCB</td>\n",
       "      <td>21-12-2018 03:00:00</td>\n",
       "      <td>44.0</td>\n",
       "      <td>102.0</td>\n",
       "      <td>18.0</td>\n",
       "      <td>CO</td>\n",
       "    </tr>\n",
       "    <tr>\n",
       "      <th>6</th>\n",
       "      <td>India</td>\n",
       "      <td>Andhra_Pradesh</td>\n",
       "      <td>Amaravati</td>\n",
       "      <td>Secretariat, Amaravati - APPCB</td>\n",
       "      <td>21-12-2018 03:00:00</td>\n",
       "      <td>29.0</td>\n",
       "      <td>35.0</td>\n",
       "      <td>12.0</td>\n",
       "      <td>OZONE</td>\n",
       "    </tr>\n",
       "    <tr>\n",
       "      <th>7</th>\n",
       "      <td>India</td>\n",
       "      <td>Andhra_Pradesh</td>\n",
       "      <td>Rajamahendravaram</td>\n",
       "      <td>Anand Kala Kshetram, Rajamahendravaram - APPCB</td>\n",
       "      <td>21-12-2018 03:00:00</td>\n",
       "      <td>NaN</td>\n",
       "      <td>NaN</td>\n",
       "      <td>NaN</td>\n",
       "      <td>PM2.5</td>\n",
       "    </tr>\n",
       "    <tr>\n",
       "      <th>8</th>\n",
       "      <td>India</td>\n",
       "      <td>Andhra_Pradesh</td>\n",
       "      <td>Rajamahendravaram</td>\n",
       "      <td>Anand Kala Kshetram, Rajamahendravaram - APPCB</td>\n",
       "      <td>21-12-2018 03:00:00</td>\n",
       "      <td>NaN</td>\n",
       "      <td>NaN</td>\n",
       "      <td>NaN</td>\n",
       "      <td>PM10</td>\n",
       "    </tr>\n",
       "    <tr>\n",
       "      <th>9</th>\n",
       "      <td>India</td>\n",
       "      <td>Andhra_Pradesh</td>\n",
       "      <td>Rajamahendravaram</td>\n",
       "      <td>Anand Kala Kshetram, Rajamahendravaram - APPCB</td>\n",
       "      <td>21-12-2018 03:00:00</td>\n",
       "      <td>NaN</td>\n",
       "      <td>NaN</td>\n",
       "      <td>NaN</td>\n",
       "      <td>NO2</td>\n",
       "    </tr>\n",
       "  </tbody>\n",
       "</table>\n",
       "</div>"
      ],
      "text/plain": [
       "  Country           State               city  \\\n",
       "0   India  Andhra_Pradesh          Amaravati   \n",
       "1   India  Andhra_Pradesh          Amaravati   \n",
       "2   India  Andhra_Pradesh          Amaravati   \n",
       "3   India  Andhra_Pradesh          Amaravati   \n",
       "4   India  Andhra_Pradesh          Amaravati   \n",
       "5   India  Andhra_Pradesh          Amaravati   \n",
       "6   India  Andhra_Pradesh          Amaravati   \n",
       "7   India  Andhra_Pradesh  Rajamahendravaram   \n",
       "8   India  Andhra_Pradesh  Rajamahendravaram   \n",
       "9   India  Andhra_Pradesh  Rajamahendravaram   \n",
       "\n",
       "                                            place           lastupdate   Avg  \\\n",
       "0                  Secretariat, Amaravati - APPCB  21-12-2018 03:00:00  70.0   \n",
       "1                  Secretariat, Amaravati - APPCB  21-12-2018 03:00:00  76.0   \n",
       "2                  Secretariat, Amaravati - APPCB  21-12-2018 03:00:00  73.0   \n",
       "3                  Secretariat, Amaravati - APPCB  21-12-2018 03:00:00   5.0   \n",
       "4                  Secretariat, Amaravati - APPCB  21-12-2018 03:00:00  41.0   \n",
       "5                  Secretariat, Amaravati - APPCB  21-12-2018 03:00:00  44.0   \n",
       "6                  Secretariat, Amaravati - APPCB  21-12-2018 03:00:00  29.0   \n",
       "7  Anand Kala Kshetram, Rajamahendravaram - APPCB  21-12-2018 03:00:00   NaN   \n",
       "8  Anand Kala Kshetram, Rajamahendravaram - APPCB  21-12-2018 03:00:00   NaN   \n",
       "9  Anand Kala Kshetram, Rajamahendravaram - APPCB  21-12-2018 03:00:00   NaN   \n",
       "\n",
       "     Max   Min Pollutants  \n",
       "0  108.0  42.0      PM2.5  \n",
       "1  102.0  43.0       PM10  \n",
       "2  118.0  46.0        NO2  \n",
       "3    6.0   4.0        NH3  \n",
       "4  109.0   2.0        SO2  \n",
       "5  102.0  18.0         CO  \n",
       "6   35.0  12.0      OZONE  \n",
       "7    NaN   NaN      PM2.5  \n",
       "8    NaN   NaN       PM10  \n",
       "9    NaN   NaN        NO2  "
      ]
     },
     "execution_count": 4,
     "metadata": {},
     "output_type": "execute_result"
    }
   ],
   "source": [
    "data.head(10)"
   ]
  },
  {
   "cell_type": "code",
   "execution_count": 5,
   "metadata": {},
   "outputs": [
    {
     "data": {
      "text/plain": [
       "(824, 9)"
      ]
     },
     "execution_count": 5,
     "metadata": {},
     "output_type": "execute_result"
    }
   ],
   "source": [
    "#shape\n",
    "data.shape"
   ]
  },
  {
   "cell_type": "markdown",
   "metadata": {},
   "source": [
    "After drop the given dataset"
   ]
  },
  {
   "cell_type": "code",
   "execution_count": 6,
   "metadata": {},
   "outputs": [],
   "source": [
    "df=data.dropna()"
   ]
  },
  {
   "cell_type": "code",
   "execution_count": 7,
   "metadata": {},
   "outputs": [
    {
     "data": {
      "text/html": [
       "<div>\n",
       "<style scoped>\n",
       "    .dataframe tbody tr th:only-of-type {\n",
       "        vertical-align: middle;\n",
       "    }\n",
       "\n",
       "    .dataframe tbody tr th {\n",
       "        vertical-align: top;\n",
       "    }\n",
       "\n",
       "    .dataframe thead th {\n",
       "        text-align: right;\n",
       "    }\n",
       "</style>\n",
       "<table border=\"1\" class=\"dataframe\">\n",
       "  <thead>\n",
       "    <tr style=\"text-align: right;\">\n",
       "      <th></th>\n",
       "      <th>Country</th>\n",
       "      <th>State</th>\n",
       "      <th>city</th>\n",
       "      <th>place</th>\n",
       "      <th>lastupdate</th>\n",
       "      <th>Avg</th>\n",
       "      <th>Max</th>\n",
       "      <th>Min</th>\n",
       "      <th>Pollutants</th>\n",
       "    </tr>\n",
       "  </thead>\n",
       "  <tbody>\n",
       "    <tr>\n",
       "      <th>0</th>\n",
       "      <td>India</td>\n",
       "      <td>Andhra_Pradesh</td>\n",
       "      <td>Amaravati</td>\n",
       "      <td>Secretariat, Amaravati - APPCB</td>\n",
       "      <td>21-12-2018 03:00:00</td>\n",
       "      <td>70.0</td>\n",
       "      <td>108.0</td>\n",
       "      <td>42.0</td>\n",
       "      <td>PM2.5</td>\n",
       "    </tr>\n",
       "    <tr>\n",
       "      <th>1</th>\n",
       "      <td>India</td>\n",
       "      <td>Andhra_Pradesh</td>\n",
       "      <td>Amaravati</td>\n",
       "      <td>Secretariat, Amaravati - APPCB</td>\n",
       "      <td>21-12-2018 03:00:00</td>\n",
       "      <td>76.0</td>\n",
       "      <td>102.0</td>\n",
       "      <td>43.0</td>\n",
       "      <td>PM10</td>\n",
       "    </tr>\n",
       "    <tr>\n",
       "      <th>2</th>\n",
       "      <td>India</td>\n",
       "      <td>Andhra_Pradesh</td>\n",
       "      <td>Amaravati</td>\n",
       "      <td>Secretariat, Amaravati - APPCB</td>\n",
       "      <td>21-12-2018 03:00:00</td>\n",
       "      <td>73.0</td>\n",
       "      <td>118.0</td>\n",
       "      <td>46.0</td>\n",
       "      <td>NO2</td>\n",
       "    </tr>\n",
       "    <tr>\n",
       "      <th>3</th>\n",
       "      <td>India</td>\n",
       "      <td>Andhra_Pradesh</td>\n",
       "      <td>Amaravati</td>\n",
       "      <td>Secretariat, Amaravati - APPCB</td>\n",
       "      <td>21-12-2018 03:00:00</td>\n",
       "      <td>5.0</td>\n",
       "      <td>6.0</td>\n",
       "      <td>4.0</td>\n",
       "      <td>NH3</td>\n",
       "    </tr>\n",
       "    <tr>\n",
       "      <th>4</th>\n",
       "      <td>India</td>\n",
       "      <td>Andhra_Pradesh</td>\n",
       "      <td>Amaravati</td>\n",
       "      <td>Secretariat, Amaravati - APPCB</td>\n",
       "      <td>21-12-2018 03:00:00</td>\n",
       "      <td>41.0</td>\n",
       "      <td>109.0</td>\n",
       "      <td>2.0</td>\n",
       "      <td>SO2</td>\n",
       "    </tr>\n",
       "    <tr>\n",
       "      <th>5</th>\n",
       "      <td>India</td>\n",
       "      <td>Andhra_Pradesh</td>\n",
       "      <td>Amaravati</td>\n",
       "      <td>Secretariat, Amaravati - APPCB</td>\n",
       "      <td>21-12-2018 03:00:00</td>\n",
       "      <td>44.0</td>\n",
       "      <td>102.0</td>\n",
       "      <td>18.0</td>\n",
       "      <td>CO</td>\n",
       "    </tr>\n",
       "    <tr>\n",
       "      <th>6</th>\n",
       "      <td>India</td>\n",
       "      <td>Andhra_Pradesh</td>\n",
       "      <td>Amaravati</td>\n",
       "      <td>Secretariat, Amaravati - APPCB</td>\n",
       "      <td>21-12-2018 03:00:00</td>\n",
       "      <td>29.0</td>\n",
       "      <td>35.0</td>\n",
       "      <td>12.0</td>\n",
       "      <td>OZONE</td>\n",
       "    </tr>\n",
       "    <tr>\n",
       "      <th>12</th>\n",
       "      <td>India</td>\n",
       "      <td>Andhra_Pradesh</td>\n",
       "      <td>Rajamahendravaram</td>\n",
       "      <td>Anand Kala Kshetram, Rajamahendravaram - APPCB</td>\n",
       "      <td>21-12-2018 03:00:00</td>\n",
       "      <td>30.0</td>\n",
       "      <td>103.0</td>\n",
       "      <td>2.0</td>\n",
       "      <td>CO</td>\n",
       "    </tr>\n",
       "    <tr>\n",
       "      <th>13</th>\n",
       "      <td>India</td>\n",
       "      <td>Andhra_Pradesh</td>\n",
       "      <td>Rajamahendravaram</td>\n",
       "      <td>Anand Kala Kshetram, Rajamahendravaram - APPCB</td>\n",
       "      <td>21-12-2018 03:00:00</td>\n",
       "      <td>108.0</td>\n",
       "      <td>130.0</td>\n",
       "      <td>51.0</td>\n",
       "      <td>OZONE</td>\n",
       "    </tr>\n",
       "    <tr>\n",
       "      <th>14</th>\n",
       "      <td>India</td>\n",
       "      <td>Andhra_Pradesh</td>\n",
       "      <td>Tirupati</td>\n",
       "      <td>Tirumala, Tirupati - APPCB</td>\n",
       "      <td>21-12-2018 03:00:00</td>\n",
       "      <td>46.0</td>\n",
       "      <td>72.0</td>\n",
       "      <td>28.0</td>\n",
       "      <td>PM2.5</td>\n",
       "    </tr>\n",
       "  </tbody>\n",
       "</table>\n",
       "</div>"
      ],
      "text/plain": [
       "   Country           State               city  \\\n",
       "0    India  Andhra_Pradesh          Amaravati   \n",
       "1    India  Andhra_Pradesh          Amaravati   \n",
       "2    India  Andhra_Pradesh          Amaravati   \n",
       "3    India  Andhra_Pradesh          Amaravati   \n",
       "4    India  Andhra_Pradesh          Amaravati   \n",
       "5    India  Andhra_Pradesh          Amaravati   \n",
       "6    India  Andhra_Pradesh          Amaravati   \n",
       "12   India  Andhra_Pradesh  Rajamahendravaram   \n",
       "13   India  Andhra_Pradesh  Rajamahendravaram   \n",
       "14   India  Andhra_Pradesh           Tirupati   \n",
       "\n",
       "                                             place           lastupdate  \\\n",
       "0                   Secretariat, Amaravati - APPCB  21-12-2018 03:00:00   \n",
       "1                   Secretariat, Amaravati - APPCB  21-12-2018 03:00:00   \n",
       "2                   Secretariat, Amaravati - APPCB  21-12-2018 03:00:00   \n",
       "3                   Secretariat, Amaravati - APPCB  21-12-2018 03:00:00   \n",
       "4                   Secretariat, Amaravati - APPCB  21-12-2018 03:00:00   \n",
       "5                   Secretariat, Amaravati - APPCB  21-12-2018 03:00:00   \n",
       "6                   Secretariat, Amaravati - APPCB  21-12-2018 03:00:00   \n",
       "12  Anand Kala Kshetram, Rajamahendravaram - APPCB  21-12-2018 03:00:00   \n",
       "13  Anand Kala Kshetram, Rajamahendravaram - APPCB  21-12-2018 03:00:00   \n",
       "14                      Tirumala, Tirupati - APPCB  21-12-2018 03:00:00   \n",
       "\n",
       "      Avg    Max   Min Pollutants  \n",
       "0    70.0  108.0  42.0      PM2.5  \n",
       "1    76.0  102.0  43.0       PM10  \n",
       "2    73.0  118.0  46.0        NO2  \n",
       "3     5.0    6.0   4.0        NH3  \n",
       "4    41.0  109.0   2.0        SO2  \n",
       "5    44.0  102.0  18.0         CO  \n",
       "6    29.0   35.0  12.0      OZONE  \n",
       "12   30.0  103.0   2.0         CO  \n",
       "13  108.0  130.0  51.0      OZONE  \n",
       "14   46.0   72.0  28.0      PM2.5  "
      ]
     },
     "execution_count": 7,
     "metadata": {},
     "output_type": "execute_result"
    }
   ],
   "source": [
    "df.head(10)"
   ]
  },
  {
   "cell_type": "code",
   "execution_count": 8,
   "metadata": {},
   "outputs": [
    {
     "data": {
      "text/plain": [
       "(788, 9)"
      ]
     },
     "execution_count": 8,
     "metadata": {},
     "output_type": "execute_result"
    }
   ],
   "source": [
    "#shape\n",
    "df.shape"
   ]
  },
  {
   "cell_type": "code",
   "execution_count": 9,
   "metadata": {},
   "outputs": [
    {
     "data": {
      "text/plain": [
       "Index(['Country', 'State', 'city', 'place', 'lastupdate', 'Avg', 'Max', 'Min',\n",
       "       'Pollutants'],\n",
       "      dtype='object')"
      ]
     },
     "execution_count": 9,
     "metadata": {},
     "output_type": "execute_result"
    }
   ],
   "source": [
    "#show columns\n",
    "df.columns"
   ]
  },
  {
   "cell_type": "code",
   "execution_count": 10,
   "metadata": {},
   "outputs": [
    {
     "data": {
      "text/html": [
       "<div>\n",
       "<style scoped>\n",
       "    .dataframe tbody tr th:only-of-type {\n",
       "        vertical-align: middle;\n",
       "    }\n",
       "\n",
       "    .dataframe tbody tr th {\n",
       "        vertical-align: top;\n",
       "    }\n",
       "\n",
       "    .dataframe thead th {\n",
       "        text-align: right;\n",
       "    }\n",
       "</style>\n",
       "<table border=\"1\" class=\"dataframe\">\n",
       "  <thead>\n",
       "    <tr style=\"text-align: right;\">\n",
       "      <th></th>\n",
       "      <th>Avg</th>\n",
       "      <th>Max</th>\n",
       "      <th>Min</th>\n",
       "    </tr>\n",
       "  </thead>\n",
       "  <tbody>\n",
       "    <tr>\n",
       "      <th>count</th>\n",
       "      <td>788.000000</td>\n",
       "      <td>788.000000</td>\n",
       "      <td>788.000000</td>\n",
       "    </tr>\n",
       "    <tr>\n",
       "      <th>mean</th>\n",
       "      <td>96.736041</td>\n",
       "      <td>149.675127</td>\n",
       "      <td>50.855330</td>\n",
       "    </tr>\n",
       "    <tr>\n",
       "      <th>std</th>\n",
       "      <td>114.746642</td>\n",
       "      <td>150.264480</td>\n",
       "      <td>74.279885</td>\n",
       "    </tr>\n",
       "    <tr>\n",
       "      <th>min</th>\n",
       "      <td>1.000000</td>\n",
       "      <td>1.000000</td>\n",
       "      <td>1.000000</td>\n",
       "    </tr>\n",
       "    <tr>\n",
       "      <th>25%</th>\n",
       "      <td>20.000000</td>\n",
       "      <td>35.000000</td>\n",
       "      <td>7.000000</td>\n",
       "    </tr>\n",
       "    <tr>\n",
       "      <th>50%</th>\n",
       "      <td>50.000000</td>\n",
       "      <td>103.000000</td>\n",
       "      <td>20.000000</td>\n",
       "    </tr>\n",
       "    <tr>\n",
       "      <th>75%</th>\n",
       "      <td>108.000000</td>\n",
       "      <td>180.250000</td>\n",
       "      <td>54.000000</td>\n",
       "    </tr>\n",
       "    <tr>\n",
       "      <th>max</th>\n",
       "      <td>457.000000</td>\n",
       "      <td>500.000000</td>\n",
       "      <td>335.000000</td>\n",
       "    </tr>\n",
       "  </tbody>\n",
       "</table>\n",
       "</div>"
      ],
      "text/plain": [
       "              Avg         Max         Min\n",
       "count  788.000000  788.000000  788.000000\n",
       "mean    96.736041  149.675127   50.855330\n",
       "std    114.746642  150.264480   74.279885\n",
       "min      1.000000    1.000000    1.000000\n",
       "25%     20.000000   35.000000    7.000000\n",
       "50%     50.000000  103.000000   20.000000\n",
       "75%    108.000000  180.250000   54.000000\n",
       "max    457.000000  500.000000  335.000000"
      ]
     },
     "execution_count": 10,
     "metadata": {},
     "output_type": "execute_result"
    }
   ],
   "source": [
    "#To describe the dataframe\n",
    "df.describe()"
   ]
  },
  {
   "cell_type": "code",
   "execution_count": 11,
   "metadata": {},
   "outputs": [
    {
     "name": "stdout",
     "output_type": "stream",
     "text": [
      "<class 'pandas.core.frame.DataFrame'>\n",
      "Int64Index: 788 entries, 0 to 823\n",
      "Data columns (total 9 columns):\n",
      " #   Column      Non-Null Count  Dtype  \n",
      "---  ------      --------------  -----  \n",
      " 0   Country     788 non-null    object \n",
      " 1   State       788 non-null    object \n",
      " 2   city        788 non-null    object \n",
      " 3   place       788 non-null    object \n",
      " 4   lastupdate  788 non-null    object \n",
      " 5   Avg         788 non-null    float64\n",
      " 6   Max         788 non-null    float64\n",
      " 7   Min         788 non-null    float64\n",
      " 8   Pollutants  788 non-null    object \n",
      "dtypes: float64(3), object(6)\n",
      "memory usage: 61.6+ KB\n"
     ]
    }
   ],
   "source": [
    "#Checking datatype and information about dataset\n",
    "df.info()"
   ]
  },
  {
   "cell_type": "markdown",
   "metadata": {},
   "source": [
    "Checking duplicate values of dataframe"
   ]
  },
  {
   "cell_type": "code",
   "execution_count": 12,
   "metadata": {},
   "outputs": [
    {
     "data": {
      "text/plain": [
       "0      False\n",
       "1      False\n",
       "2      False\n",
       "3      False\n",
       "4      False\n",
       "       ...  \n",
       "819    False\n",
       "820    False\n",
       "821    False\n",
       "822    False\n",
       "823    False\n",
       "Length: 788, dtype: bool"
      ]
     },
     "execution_count": 12,
     "metadata": {},
     "output_type": "execute_result"
    }
   ],
   "source": [
    "#Checking for duplicate data\n",
    "df.duplicated()"
   ]
  },
  {
   "cell_type": "code",
   "execution_count": 13,
   "metadata": {},
   "outputs": [
    {
     "data": {
      "text/plain": [
       "0"
      ]
     },
     "execution_count": 13,
     "metadata": {},
     "output_type": "execute_result"
    }
   ],
   "source": [
    "#find sum of duplicate data\n",
    "sum(df.duplicated())"
   ]
  },
  {
   "cell_type": "code",
   "execution_count": 14,
   "metadata": {},
   "outputs": [
    {
     "data": {
      "text/plain": [
       "Country       0\n",
       "State         0\n",
       "city          0\n",
       "place         0\n",
       "lastupdate    0\n",
       "Avg           0\n",
       "Max           0\n",
       "Min           0\n",
       "Pollutants    0\n",
       "dtype: int64"
      ]
     },
     "execution_count": 14,
     "metadata": {},
     "output_type": "execute_result"
    }
   ],
   "source": [
    "#Checking sum of missing values\n",
    "df.isnull().sum()"
   ]
  },
  {
   "cell_type": "code",
   "execution_count": 15,
   "metadata": {},
   "outputs": [
    {
     "data": {
      "text/plain": [
       "array(['PM2.5', 'PM10', 'NO2', 'NH3', 'SO2', 'CO', 'OZONE'], dtype=object)"
      ]
     },
     "execution_count": 15,
     "metadata": {},
     "output_type": "execute_result"
    }
   ],
   "source": [
    "df.Pollutants.unique()"
   ]
  },
  {
   "cell_type": "markdown",
   "metadata": {},
   "source": [
    "To validate avg pollution values"
   ]
  },
  {
   "cell_type": "code",
   "execution_count": 16,
   "metadata": {},
   "outputs": [
    {
     "name": "stdout",
     "output_type": "stream",
     "text": [
      "Minimum value of average pollution is: 1.0\n",
      "Maximum value of average pollution is: 457.0\n"
     ]
    }
   ],
   "source": [
    "#Checking minimum or maximum of average pollution values\n",
    "print(\"Minimum value of average pollution is:\", df.Avg.min())\n",
    "print(\"Maximum value of average pollution is:\", df.Avg.max())"
   ]
  },
  {
   "cell_type": "code",
   "execution_count": 17,
   "metadata": {},
   "outputs": [
    {
     "name": "stdout",
     "output_type": "stream",
     "text": [
      "Avg pollution range : [1.0, 2.0, 3.0, 4.0, 5.0, 6.0, 7.0, 8.0, 9.0, 10.0, 11.0, 12.0, 13.0, 14.0, 15.0, 16.0, 17.0, 18.0, 19.0, 20.0, 21.0, 22.0, 24.0, 25.0, 26.0, 27.0, 28.0, 29.0, 30.0, 31.0, 32.0, 33.0, 34.0, 35.0, 36.0, 37.0, 38.0, 39.0, 40.0, 41.0, 42.0, 43.0, 44.0, 45.0, 46.0, 47.0, 48.0, 49.0, 50.0, 51.0, 52.0, 53.0, 54.0, 55.0, 56.0, 57.0, 58.0, 59.0, 60.0, 61.0, 62.0, 63.0, 64.0, 65.0, 66.0, 67.0, 68.0, 69.0, 70.0, 71.0, 72.0, 73.0, 74.0, 75.0, 76.0, 77.0, 78.0, 79.0, 80.0, 81.0, 82.0, 83.0, 84.0, 85.0, 86.0, 87.0, 88.0, 89.0, 90.0, 91.0, 92.0, 93.0, 94.0, 95.0, 96.0, 97.0, 98.0, 99.0, 100.0, 101.0, 102.0, 103.0, 104.0, 105.0, 106.0, 107.0, 108.0, 110.0, 111.0, 112.0, 113.0, 114.0, 115.0, 118.0, 119.0, 120.0, 121.0, 122.0, 124.0, 125.0, 126.0, 127.0, 129.0, 130.0, 131.0, 136.0, 138.0, 139.0, 141.0, 142.0, 144.0, 146.0, 148.0, 149.0, 150.0, 154.0, 156.0, 157.0, 160.0, 161.0, 163.0, 164.0, 165.0, 167.0, 176.0, 177.0, 180.0, 183.0, 185.0, 187.0, 190.0, 193.0, 195.0, 201.0, 203.0, 204.0, 207.0, 214.0, 217.0, 221.0, 223.0, 228.0, 229.0, 231.0, 232.0, 235.0, 238.0, 240.0, 241.0, 247.0, 253.0, 257.0, 265.0, 266.0, 269.0, 272.0, 274.0, 276.0, 277.0, 278.0, 280.0, 287.0, 297.0, 302.0, 304.0, 305.0, 307.0, 308.0, 311.0, 314.0, 317.0, 318.0, 320.0, 321.0, 323.0, 325.0, 329.0, 333.0, 336.0, 337.0, 339.0, 341.0, 342.0, 345.0, 349.0, 350.0, 354.0, 356.0, 358.0, 359.0, 360.0, 361.0, 364.0, 370.0, 371.0, 372.0, 373.0, 374.0, 377.0, 378.0, 379.0, 380.0, 381.0, 383.0, 385.0, 388.0, 389.0, 390.0, 392.0, 393.0, 395.0, 396.0, 397.0, 401.0, 406.0, 408.0, 410.0, 411.0, 413.0, 414.0, 418.0, 420.0, 421.0, 426.0, 431.0, 433.0, 436.0, 439.0, 457.0]\n"
     ]
    }
   ],
   "source": [
    "#check the average pollution range\n",
    "print(\"Avg pollution range :\", sorted(df['Avg'].unique()))"
   ]
  },
  {
   "cell_type": "code",
   "execution_count": 18,
   "metadata": {},
   "outputs": [
    {
     "data": {
      "text/plain": [
       "array(['PM2.5', 'PM10', 'NO2', 'NH3', 'SO2', 'CO', 'OZONE'], dtype=object)"
      ]
     },
     "execution_count": 18,
     "metadata": {},
     "output_type": "execute_result"
    }
   ],
   "source": [
    "df.Pollutants.unique()"
   ]
  },
  {
   "cell_type": "code",
   "execution_count": 19,
   "metadata": {},
   "outputs": [],
   "source": [
    "PMkitchen = df.loc[df['Pollutants'] == 'PM2.5']\n",
    "PMclean = df.loc[df['Pollutants'] == 'PM10']\n",
    "N02 = df.loc[df['Pollutants'] == 'NO2']\n",
    "NH3 = df.loc[df['Pollutants'] == 'NH3']\n",
    "S02 = df.loc[df['Pollutants'] == 'SO2']\n",
    "CO = df.loc[df['Pollutants'] == 'CO']\n",
    "O3 = df.loc[df['Pollutants'] == 'OZONE']"
   ]
  },
  {
   "cell_type": "code",
   "execution_count": 20,
   "metadata": {},
   "outputs": [
    {
     "data": {
      "text/plain": [
       "Index(['Country', 'State', 'city', 'place', 'lastupdate', 'Avg', 'Max', 'Min',\n",
       "       'Pollutants'],\n",
       "      dtype='object')"
      ]
     },
     "execution_count": 20,
     "metadata": {},
     "output_type": "execute_result"
    }
   ],
   "source": [
    "df.columns"
   ]
  },
  {
   "cell_type": "code",
   "execution_count": 21,
   "metadata": {},
   "outputs": [
    {
     "data": {
      "text/html": [
       "<div>\n",
       "<style scoped>\n",
       "    .dataframe tbody tr th:only-of-type {\n",
       "        vertical-align: middle;\n",
       "    }\n",
       "\n",
       "    .dataframe tbody tr th {\n",
       "        vertical-align: top;\n",
       "    }\n",
       "\n",
       "    .dataframe thead th {\n",
       "        text-align: right;\n",
       "    }\n",
       "</style>\n",
       "<table border=\"1\" class=\"dataframe\">\n",
       "  <thead>\n",
       "    <tr style=\"text-align: right;\">\n",
       "      <th></th>\n",
       "      <th>counts</th>\n",
       "      <th>freqs</th>\n",
       "    </tr>\n",
       "    <tr>\n",
       "      <th>categories</th>\n",
       "      <th></th>\n",
       "      <th></th>\n",
       "    </tr>\n",
       "  </thead>\n",
       "  <tbody>\n",
       "    <tr>\n",
       "      <th>CO</th>\n",
       "      <td>126</td>\n",
       "      <td>0.159898</td>\n",
       "    </tr>\n",
       "    <tr>\n",
       "      <th>NH3</th>\n",
       "      <td>86</td>\n",
       "      <td>0.109137</td>\n",
       "    </tr>\n",
       "    <tr>\n",
       "      <th>NO2</th>\n",
       "      <td>122</td>\n",
       "      <td>0.154822</td>\n",
       "    </tr>\n",
       "    <tr>\n",
       "      <th>OZONE</th>\n",
       "      <td>117</td>\n",
       "      <td>0.148477</td>\n",
       "    </tr>\n",
       "    <tr>\n",
       "      <th>PM10</th>\n",
       "      <td>102</td>\n",
       "      <td>0.129442</td>\n",
       "    </tr>\n",
       "    <tr>\n",
       "      <th>PM2.5</th>\n",
       "      <td>120</td>\n",
       "      <td>0.152284</td>\n",
       "    </tr>\n",
       "    <tr>\n",
       "      <th>SO2</th>\n",
       "      <td>115</td>\n",
       "      <td>0.145939</td>\n",
       "    </tr>\n",
       "  </tbody>\n",
       "</table>\n",
       "</div>"
      ],
      "text/plain": [
       "            counts     freqs\n",
       "categories                  \n",
       "CO             126  0.159898\n",
       "NH3             86  0.109137\n",
       "NO2            122  0.154822\n",
       "OZONE          117  0.148477\n",
       "PM10           102  0.129442\n",
       "PM2.5          120  0.152284\n",
       "SO2            115  0.145939"
      ]
     },
     "execution_count": 21,
     "metadata": {},
     "output_type": "execute_result"
    }
   ],
   "source": [
    "p.Categorical(df['Pollutants']).describe()"
   ]
  },
  {
   "cell_type": "code",
   "execution_count": 22,
   "metadata": {},
   "outputs": [
    {
     "data": {
      "text/plain": [
       "CO       126\n",
       "NO2      122\n",
       "PM2.5    120\n",
       "OZONE    117\n",
       "SO2      115\n",
       "PM10     102\n",
       "NH3       86\n",
       "Name: Pollutants, dtype: int64"
      ]
     },
     "execution_count": 22,
     "metadata": {},
     "output_type": "execute_result"
    }
   ],
   "source": [
    "df['Pollutants'].value_counts()"
   ]
  },
  {
   "cell_type": "code",
   "execution_count": 23,
   "metadata": {},
   "outputs": [
    {
     "data": {
      "text/html": [
       "<div>\n",
       "<style scoped>\n",
       "    .dataframe tbody tr th:only-of-type {\n",
       "        vertical-align: middle;\n",
       "    }\n",
       "\n",
       "    .dataframe tbody tr th {\n",
       "        vertical-align: top;\n",
       "    }\n",
       "\n",
       "    .dataframe thead th {\n",
       "        text-align: right;\n",
       "    }\n",
       "</style>\n",
       "<table border=\"1\" class=\"dataframe\">\n",
       "  <thead>\n",
       "    <tr style=\"text-align: right;\">\n",
       "      <th></th>\n",
       "      <th>Avg</th>\n",
       "      <th>Max</th>\n",
       "      <th>Min</th>\n",
       "    </tr>\n",
       "  </thead>\n",
       "  <tbody>\n",
       "    <tr>\n",
       "      <th>Avg</th>\n",
       "      <td>1.000000</td>\n",
       "      <td>0.960141</td>\n",
       "      <td>0.933346</td>\n",
       "    </tr>\n",
       "    <tr>\n",
       "      <th>Max</th>\n",
       "      <td>0.960141</td>\n",
       "      <td>1.000000</td>\n",
       "      <td>0.859276</td>\n",
       "    </tr>\n",
       "    <tr>\n",
       "      <th>Min</th>\n",
       "      <td>0.933346</td>\n",
       "      <td>0.859276</td>\n",
       "      <td>1.000000</td>\n",
       "    </tr>\n",
       "  </tbody>\n",
       "</table>\n",
       "</div>"
      ],
      "text/plain": [
       "          Avg       Max       Min\n",
       "Avg  1.000000  0.960141  0.933346\n",
       "Max  0.960141  1.000000  0.859276\n",
       "Min  0.933346  0.859276  1.000000"
      ]
     },
     "execution_count": 23,
     "metadata": {},
     "output_type": "execute_result"
    }
   ],
   "source": [
    "df.corr()"
   ]
  },
  {
   "cell_type": "markdown",
   "metadata": {},
   "source": [
    "Before Pre-Processing:"
   ]
  },
  {
   "cell_type": "code",
   "execution_count": 24,
   "metadata": {},
   "outputs": [
    {
     "data": {
      "text/html": [
       "<div>\n",
       "<style scoped>\n",
       "    .dataframe tbody tr th:only-of-type {\n",
       "        vertical-align: middle;\n",
       "    }\n",
       "\n",
       "    .dataframe tbody tr th {\n",
       "        vertical-align: top;\n",
       "    }\n",
       "\n",
       "    .dataframe thead th {\n",
       "        text-align: right;\n",
       "    }\n",
       "</style>\n",
       "<table border=\"1\" class=\"dataframe\">\n",
       "  <thead>\n",
       "    <tr style=\"text-align: right;\">\n",
       "      <th></th>\n",
       "      <th>Country</th>\n",
       "      <th>State</th>\n",
       "      <th>city</th>\n",
       "      <th>place</th>\n",
       "      <th>lastupdate</th>\n",
       "      <th>Avg</th>\n",
       "      <th>Max</th>\n",
       "      <th>Min</th>\n",
       "      <th>Pollutants</th>\n",
       "    </tr>\n",
       "  </thead>\n",
       "  <tbody>\n",
       "    <tr>\n",
       "      <th>0</th>\n",
       "      <td>India</td>\n",
       "      <td>Andhra_Pradesh</td>\n",
       "      <td>Amaravati</td>\n",
       "      <td>Secretariat, Amaravati - APPCB</td>\n",
       "      <td>21-12-2018 03:00:00</td>\n",
       "      <td>70.0</td>\n",
       "      <td>108.0</td>\n",
       "      <td>42.0</td>\n",
       "      <td>PM2.5</td>\n",
       "    </tr>\n",
       "    <tr>\n",
       "      <th>1</th>\n",
       "      <td>India</td>\n",
       "      <td>Andhra_Pradesh</td>\n",
       "      <td>Amaravati</td>\n",
       "      <td>Secretariat, Amaravati - APPCB</td>\n",
       "      <td>21-12-2018 03:00:00</td>\n",
       "      <td>76.0</td>\n",
       "      <td>102.0</td>\n",
       "      <td>43.0</td>\n",
       "      <td>PM10</td>\n",
       "    </tr>\n",
       "    <tr>\n",
       "      <th>2</th>\n",
       "      <td>India</td>\n",
       "      <td>Andhra_Pradesh</td>\n",
       "      <td>Amaravati</td>\n",
       "      <td>Secretariat, Amaravati - APPCB</td>\n",
       "      <td>21-12-2018 03:00:00</td>\n",
       "      <td>73.0</td>\n",
       "      <td>118.0</td>\n",
       "      <td>46.0</td>\n",
       "      <td>NO2</td>\n",
       "    </tr>\n",
       "    <tr>\n",
       "      <th>3</th>\n",
       "      <td>India</td>\n",
       "      <td>Andhra_Pradesh</td>\n",
       "      <td>Amaravati</td>\n",
       "      <td>Secretariat, Amaravati - APPCB</td>\n",
       "      <td>21-12-2018 03:00:00</td>\n",
       "      <td>5.0</td>\n",
       "      <td>6.0</td>\n",
       "      <td>4.0</td>\n",
       "      <td>NH3</td>\n",
       "    </tr>\n",
       "    <tr>\n",
       "      <th>4</th>\n",
       "      <td>India</td>\n",
       "      <td>Andhra_Pradesh</td>\n",
       "      <td>Amaravati</td>\n",
       "      <td>Secretariat, Amaravati - APPCB</td>\n",
       "      <td>21-12-2018 03:00:00</td>\n",
       "      <td>41.0</td>\n",
       "      <td>109.0</td>\n",
       "      <td>2.0</td>\n",
       "      <td>SO2</td>\n",
       "    </tr>\n",
       "  </tbody>\n",
       "</table>\n",
       "</div>"
      ],
      "text/plain": [
       "  Country           State       city                           place  \\\n",
       "0   India  Andhra_Pradesh  Amaravati  Secretariat, Amaravati - APPCB   \n",
       "1   India  Andhra_Pradesh  Amaravati  Secretariat, Amaravati - APPCB   \n",
       "2   India  Andhra_Pradesh  Amaravati  Secretariat, Amaravati - APPCB   \n",
       "3   India  Andhra_Pradesh  Amaravati  Secretariat, Amaravati - APPCB   \n",
       "4   India  Andhra_Pradesh  Amaravati  Secretariat, Amaravati - APPCB   \n",
       "\n",
       "            lastupdate   Avg    Max   Min Pollutants  \n",
       "0  21-12-2018 03:00:00  70.0  108.0  42.0      PM2.5  \n",
       "1  21-12-2018 03:00:00  76.0  102.0  43.0       PM10  \n",
       "2  21-12-2018 03:00:00  73.0  118.0  46.0        NO2  \n",
       "3  21-12-2018 03:00:00   5.0    6.0   4.0        NH3  \n",
       "4  21-12-2018 03:00:00  41.0  109.0   2.0        SO2  "
      ]
     },
     "execution_count": 24,
     "metadata": {},
     "output_type": "execute_result"
    }
   ],
   "source": [
    "df.head()"
   ]
  },
  {
   "cell_type": "markdown",
   "metadata": {},
   "source": [
    "After Pre-Processing:"
   ]
  },
  {
   "cell_type": "code",
   "execution_count": 25,
   "metadata": {},
   "outputs": [
    {
     "data": {
      "text/plain": [
       "Index(['Country', 'State', 'city', 'place', 'lastupdate', 'Avg', 'Max', 'Min',\n",
       "       'Pollutants'],\n",
       "      dtype='object')"
      ]
     },
     "execution_count": 25,
     "metadata": {},
     "output_type": "execute_result"
    }
   ],
   "source": [
    "df.columns"
   ]
  },
  {
   "cell_type": "code",
   "execution_count": 26,
   "metadata": {},
   "outputs": [],
   "source": [
    "from sklearn.preprocessing import LabelEncoder\n",
    "var_mod = ['Country', 'State', 'city', 'place', 'lastupdate', 'Avg', 'Max', 'Min','Pollutants']\n",
    "le = LabelEncoder()\n",
    "for i in var_mod:\n",
    "    df[i] = le.fit_transform(df[i]).astype(str)\n"
   ]
  },
  {
   "cell_type": "code",
   "execution_count": 27,
   "metadata": {},
   "outputs": [
    {
     "data": {
      "text/html": [
       "<div>\n",
       "<style scoped>\n",
       "    .dataframe tbody tr th:only-of-type {\n",
       "        vertical-align: middle;\n",
       "    }\n",
       "\n",
       "    .dataframe tbody tr th {\n",
       "        vertical-align: top;\n",
       "    }\n",
       "\n",
       "    .dataframe thead th {\n",
       "        text-align: right;\n",
       "    }\n",
       "</style>\n",
       "<table border=\"1\" class=\"dataframe\">\n",
       "  <thead>\n",
       "    <tr style=\"text-align: right;\">\n",
       "      <th></th>\n",
       "      <th>Country</th>\n",
       "      <th>State</th>\n",
       "      <th>city</th>\n",
       "      <th>place</th>\n",
       "      <th>lastupdate</th>\n",
       "      <th>Avg</th>\n",
       "      <th>Max</th>\n",
       "      <th>Min</th>\n",
       "      <th>Pollutants</th>\n",
       "    </tr>\n",
       "  </thead>\n",
       "  <tbody>\n",
       "    <tr>\n",
       "      <th>0</th>\n",
       "      <td>0</td>\n",
       "      <td>0</td>\n",
       "      <td>4</td>\n",
       "      <td>99</td>\n",
       "      <td>0</td>\n",
       "      <td>68</td>\n",
       "      <td>105</td>\n",
       "      <td>41</td>\n",
       "      <td>5</td>\n",
       "    </tr>\n",
       "    <tr>\n",
       "      <th>1</th>\n",
       "      <td>0</td>\n",
       "      <td>0</td>\n",
       "      <td>4</td>\n",
       "      <td>99</td>\n",
       "      <td>0</td>\n",
       "      <td>74</td>\n",
       "      <td>99</td>\n",
       "      <td>42</td>\n",
       "      <td>4</td>\n",
       "    </tr>\n",
       "    <tr>\n",
       "      <th>2</th>\n",
       "      <td>0</td>\n",
       "      <td>0</td>\n",
       "      <td>4</td>\n",
       "      <td>99</td>\n",
       "      <td>0</td>\n",
       "      <td>71</td>\n",
       "      <td>115</td>\n",
       "      <td>45</td>\n",
       "      <td>2</td>\n",
       "    </tr>\n",
       "    <tr>\n",
       "      <th>3</th>\n",
       "      <td>0</td>\n",
       "      <td>0</td>\n",
       "      <td>4</td>\n",
       "      <td>99</td>\n",
       "      <td>0</td>\n",
       "      <td>4</td>\n",
       "      <td>5</td>\n",
       "      <td>3</td>\n",
       "      <td>1</td>\n",
       "    </tr>\n",
       "    <tr>\n",
       "      <th>4</th>\n",
       "      <td>0</td>\n",
       "      <td>0</td>\n",
       "      <td>4</td>\n",
       "      <td>99</td>\n",
       "      <td>0</td>\n",
       "      <td>39</td>\n",
       "      <td>106</td>\n",
       "      <td>1</td>\n",
       "      <td>6</td>\n",
       "    </tr>\n",
       "  </tbody>\n",
       "</table>\n",
       "</div>"
      ],
      "text/plain": [
       "  Country State city place lastupdate Avg  Max Min Pollutants\n",
       "0       0     0    4    99          0  68  105  41          5\n",
       "1       0     0    4    99          0  74   99  42          4\n",
       "2       0     0    4    99          0  71  115  45          2\n",
       "3       0     0    4    99          0   4    5   3          1\n",
       "4       0     0    4    99          0  39  106   1          6"
      ]
     },
     "execution_count": 27,
     "metadata": {},
     "output_type": "execute_result"
    }
   ],
   "source": [
    "df.head()"
   ]
  },
  {
   "cell_type": "code",
   "execution_count": null,
   "metadata": {},
   "outputs": [],
   "source": []
  },
  {
   "cell_type": "code",
   "execution_count": null,
   "metadata": {},
   "outputs": [],
   "source": []
  },
  {
   "cell_type": "code",
   "execution_count": null,
   "metadata": {},
   "outputs": [],
   "source": []
  },
  {
   "cell_type": "code",
   "execution_count": null,
   "metadata": {},
   "outputs": [],
   "source": []
  },
  {
   "cell_type": "code",
   "execution_count": null,
   "metadata": {},
   "outputs": [],
   "source": []
  }
 ],
 "metadata": {
  "kernelspec": {
   "display_name": "Python 3",
   "language": "python",
   "name": "python3"
  },
  "language_info": {
   "codemirror_mode": {
    "name": "ipython",
    "version": 3
   },
   "file_extension": ".py",
   "mimetype": "text/x-python",
   "name": "python",
   "nbconvert_exporter": "python",
   "pygments_lexer": "ipython3",
   "version": "3.8.3"
  }
 },
 "nbformat": 4,
 "nbformat_minor": 2
}
